{
 "cells": [
  {
   "cell_type": "markdown",
   "metadata": {},
   "source": [
    "## Assignment 2\n",
    "Petter Eriksson , Oscar Andersson"
   ]
  },
  {
   "cell_type": "markdown",
   "metadata": {},
   "source": [
    "## 1. Load and Preprocess Dataset"
   ]
  },
  {
   "cell_type": "code",
   "execution_count": 2,
   "metadata": {},
   "outputs": [],
   "source": [
    "import pandas as pd\n",
    "import numpy as np\n",
    "from sklearn.preprocessing import StandardScaler\n",
    "from sklearn.linear_model import LogisticRegression\n",
    "from sklearn.ensemble import RandomForestClassifier\n",
    "from sklearn.svm import SVC\n",
    "from sklearn.metrics import accuracy_score, precision_score, recall_score, f1_score\n",
    "from sklearn.model_selection import StratifiedKFold\n",
    "from scipy.stats import friedmanchisquare\n",
    "import time\n",
    "\n",
    "# Load and preprocess dataset\n",
    "data_file = \"spambase.data\"\n",
    "df = pd.read_csv(data_file, header=None)\n",
    "\n",
    "# Features and target split\n",
    "X = df.iloc[:, :-1].values\n",
    "y = df.iloc[:, -1].values\n",
    "\n",
    "# Standardize features\n",
    "scaler = StandardScaler()\n",
    "X = scaler.fit_transform(X)\n",
    "\n",
    "# Classifiers\n",
    "classifiers = { \"Log Reg\": LogisticRegression(max_iter=500),\n",
    "               \"SVM\": SVC(),\n",
    "               \"Random Forest\": RandomForestClassifier()\n",
    "}\n",
    "\n",
    "\n"
   ]
  },
  {
   "cell_type": "markdown",
   "metadata": {},
   "source": [
    "## 2. Stratified ten-fold cross-validation tests"
   ]
  },
  {
   "cell_type": "code",
   "execution_count": 3,
   "metadata": {},
   "outputs": [],
   "source": [
    "# Metrics placeholders\n",
    "results = {\"Algorithm\": [], \"Fold\": [], \"Training Time (s)\": [], \"Accuracy\": [], \"F-measure\": []}\n",
    "\n",
    "# Stratified 10-Fold Cross-Validation\n",
    "skf = StratifiedKFold(n_splits=10, shuffle=True, random_state=42)\n",
    "\n",
    "for algo_name, clf in classifiers.items():\n",
    "    for fold, (train_idx, test_idx) in enumerate(skf.split(X, y), start=1):\n",
    "        # Split data\n",
    "        X_train, X_test = X[train_idx], X[test_idx]\n",
    "        y_train, y_test = y[train_idx], y[test_idx]\n",
    "\n",
    "        # Train and time the classifier\n",
    "        start_time = time.time()\n",
    "        clf.fit(X_train, y_train)\n",
    "        train_time = time.time() - start_time\n",
    "\n",
    "        # Predictions\n",
    "        y_pred = clf.predict(X_test)\n",
    "\n",
    "        # Calculate metrics\n",
    "        acc = accuracy_score(y_test, y_pred)\n",
    "        f1 = f1_score(y_test, y_pred, average='weighted')\n",
    "\n",
    "        # Store results\n",
    "        results[\"Algorithm\"].append(algo_name)\n",
    "        results[\"Fold\"].append(fold)\n",
    "        results[\"Training Time (s)\"].append(train_time)\n",
    "        results[\"Accuracy\"].append(acc)\n",
    "        results[\"F-measure\"].append(f1)\n",
    "\n",
    "# Convert results to DataFrame\n",
    "results_df = pd.DataFrame(results)"
   ]
  },
  {
   "cell_type": "code",
   "execution_count": 9,
   "metadata": {},
   "outputs": [
    {
     "name": "stdout",
     "output_type": "stream",
     "text": [
      "        Algorithm  Fold  Training Time (s)  Accuracy  F-measure\n",
      "0         Log Reg     1           0.020999  0.915401   0.915188\n",
      "1         Log Reg     2           0.013003  0.921739   0.921415\n",
      "2         Log Reg     3           0.014000  0.928261   0.928004\n",
      "3         Log Reg     4           0.013999  0.932609   0.932507\n",
      "4         Log Reg     5           0.015001  0.908696   0.908782\n",
      "5         Log Reg     6           0.014999  0.936957   0.936926\n",
      "6         Log Reg     7           0.017002  0.934783   0.934507\n",
      "7         Log Reg     8           0.014998  0.926087   0.925598\n",
      "8         Log Reg     9           0.015005  0.939130   0.938489\n",
      "9         Log Reg    10           0.014501  0.910870   0.910441\n",
      "10            SVM     1           0.263499  0.919740   0.919450\n",
      "11            SVM     2           0.265498  0.928261   0.928004\n",
      "12            SVM     3           0.267501  0.939130   0.939010\n",
      "13            SVM     4           0.260000  0.921739   0.921496\n",
      "14            SVM     5           0.270503  0.939130   0.939007\n",
      "15            SVM     6           0.268000  0.947826   0.947664\n",
      "16            SVM     7           0.266937  0.926087   0.925774\n",
      "17            SVM     8           0.269500  0.936957   0.936726\n",
      "18            SVM     9           0.262500  0.945652   0.945259\n",
      "19            SVM    10           0.265500  0.934783   0.934430\n",
      "20  Random Forest     1           0.671997  0.954447   0.954332\n",
      "21  Random Forest     2           0.672000  0.954348   0.954184\n",
      "22  Random Forest     3           0.677999  0.960870   0.960832\n",
      "23  Random Forest     4           0.676000  0.956522   0.956387\n",
      "24  Random Forest     5           0.720000  0.947826   0.947774\n",
      "25  Random Forest     6           0.673002  0.960870   0.960790\n",
      "26  Random Forest     7           0.681001  0.945652   0.945513\n",
      "27  Random Forest     8           0.696501  0.960870   0.960748\n",
      "28  Random Forest     9           0.689994  0.952174   0.952025\n",
      "29  Random Forest    10           0.682999  0.952174   0.951971\n"
     ]
    }
   ],
   "source": [
    "print(results_df)"
   ]
  },
  {
   "cell_type": "code",
   "execution_count": 17,
   "metadata": {},
   "outputs": [
    {
     "name": "stdout",
     "output_type": "stream",
     "text": [
      "    Folds   Log Reg  Random Forest       SVM\n",
      "0       1  0.915401       0.954447  0.919740\n",
      "1       2  0.921739       0.954348  0.928261\n",
      "2       3  0.928261       0.960870  0.939130\n",
      "3       4  0.932609       0.956522  0.921739\n",
      "4       5  0.908696       0.947826  0.939130\n",
      "5       6  0.936957       0.960870  0.947826\n",
      "6       7  0.934783       0.945652  0.926087\n",
      "7       8  0.926087       0.960870  0.936957\n",
      "8       9  0.939130       0.952174  0.945652\n",
      "9      10  0.910870       0.952174  0.934783\n",
      "10    avg  0.925453       0.954575  0.933930\n",
      "11  stdev  0.010365       0.005093  0.009155\n"
     ]
    }
   ],
   "source": [
    "# Reshape to 12.4 example\n",
    "pivot_table = results_df.pivot(index=\"Fold\", columns=\"Algorithm\", values=\"Accuracy\")\n",
    "\n",
    "# Calculate averages and standard deviations for each algorithm\n",
    "pivot_table.loc[\"avg\"] = pivot_table.mean()\n",
    "pivot_table.loc[\"stdev\"] = pivot_table.std()\n",
    "\n",
    "# Rename index\n",
    "pivot_table.index.name = \"Folds\"\n",
    "pivot_table.reset_index(inplace=True)\n",
    "\n",
    "# Rename the columns for clarity (optional)\n",
    "pivot_table.columns.name = None\n",
    "\n",
    "# Display the final table\n",
    "print(pivot_table)"
   ]
  },
  {
   "cell_type": "markdown",
   "metadata": {},
   "source": [
    "## 3. Ranking Folds"
   ]
  },
  {
   "cell_type": "code",
   "execution_count": 31,
   "metadata": {},
   "outputs": [],
   "source": [
    "# Add ranking to the results DataFrame\n",
    "ranked_results = []\n",
    "\n",
    "# Group by fold and calculate ranks for accuracy\n",
    "for fold, group in results_df.groupby(\"Fold\"):\n",
    "    group = group.copy()\n",
    "    group[\"Rank\"] = group[\"Accuracy\"].rank(ascending=False, method=\"average\")  # Rank algorithms within each fold\n",
    "    group[\"Accuracy (Rank)\"] = group.apply(lambda x: f\"{x['Accuracy']:.4f} ({int(x['Rank'])})\", axis=1)\n",
    "    ranked_results.append(group)\n",
    "\n",
    "# Combine all folds back into a single DataFrame\n",
    "ranked_results_df = pd.concat(ranked_results, ignore_index=True)\n",
    "\n",
    "# Pivot to get the desired format\n",
    "final_table = ranked_results_df.pivot(index=\"Fold\", columns=\"Algorithm\", values=\"Accuracy (Rank)\")\n",
    "\n",
    "# Calculate average ranks\n",
    "rank_sums = ranked_results_df.groupby(\"Algorithm\")[\"Rank\"].sum()\n",
    "avg_ranks = rank_sums / len(results_df[\"Fold\"].unique())\n",
    "\n",
    "# Compute rank sums for each algorithm\n",
    "rank_sums = ranked_results_df.groupby(\"Algorithm\")[\"Rank\"].sum()\n",
    "\n",
    "# Add average ranks as the last row\n",
    "final_table.loc[\"avg rank\"] = [\n",
    "    f\"{avg_ranks[algo]:.1f}\" for algo in final_table.columns\n",
    "]\n",
    "\n"
   ]
  },
  {
   "cell_type": "code",
   "execution_count": 19,
   "metadata": {},
   "outputs": [
    {
     "name": "stdout",
     "output_type": "stream",
     "text": [
      "Algorithm\n",
      "Log Reg          28.0\n",
      "Random Forest    10.0\n",
      "SVM              22.0\n",
      "Name: Rank, dtype: float64 Algorithm\n",
      "Log Reg          2.8\n",
      "Random Forest    1.0\n",
      "SVM              2.2\n",
      "Name: Rank, dtype: float64\n"
     ]
    }
   ],
   "source": [
    "print(rank_sums, avg_ranks)"
   ]
  },
  {
   "cell_type": "markdown",
   "metadata": {},
   "source": [
    "## 4. Friedman Test"
   ]
  },
  {
   "cell_type": "code",
   "execution_count": 32,
   "metadata": {},
   "outputs": [
    {
     "name": "stdout",
     "output_type": "stream",
     "text": [
      "Algorithm     Log Reg Random Forest         SVM\n",
      "Fold                                           \n",
      "1          0.9154 (3)    0.9544 (1)  0.9197 (2)\n",
      "2          0.9217 (3)    0.9543 (1)  0.9283 (2)\n",
      "3          0.9283 (3)    0.9609 (1)  0.9391 (2)\n",
      "4          0.9326 (2)    0.9565 (1)  0.9217 (3)\n",
      "5          0.9087 (3)    0.9478 (1)  0.9391 (2)\n",
      "6          0.9370 (3)    0.9609 (1)  0.9478 (2)\n",
      "7          0.9348 (2)    0.9457 (1)  0.9261 (3)\n",
      "8          0.9261 (3)    0.9609 (1)  0.9370 (2)\n",
      "9          0.9391 (3)    0.9522 (1)  0.9457 (2)\n",
      "10         0.9109 (3)    0.9522 (1)  0.9348 (2)\n",
      "avg rank          2.8           1.0         2.2\n",
      "\n",
      "Friedman Test Statistic: 16.800\n",
      "Degrees of Freedom: 2\n"
     ]
    }
   ],
   "source": [
    "# Number of folds and classifiers\n",
    "n_folds = len(results_df[\"Fold\"].unique())\n",
    "n_classifiers = len(results_df[\"Algorithm\"].unique())\n",
    "\n",
    "# Compute Friedman Test Statistic\n",
    "chi_square_f = (12 / (n_folds * n_classifiers * (n_classifiers + 1))) * np.sum(rank_sums**2) - 3 * n_folds * (n_classifiers + 1)\n",
    "\n",
    "# Degrees of freedom\n",
    "df = n_classifiers - 1\n",
    "\n",
    "# Output\n",
    "print(final_table)\n",
    "print(f\"\\nFriedman Test Statistic: {chi_square_f:.3f}\")\n",
    "print(f\"Degrees of Freedom: {df}\")"
   ]
  }
 ],
 "metadata": {
  "kernelspec": {
   "display_name": "Python 3",
   "language": "python",
   "name": "python3"
  },
  "language_info": {
   "codemirror_mode": {
    "name": "ipython",
    "version": 3
   },
   "file_extension": ".py",
   "mimetype": "text/x-python",
   "name": "python",
   "nbconvert_exporter": "python",
   "pygments_lexer": "ipython3",
   "version": "3.12.6"
  }
 },
 "nbformat": 4,
 "nbformat_minor": 2
}
