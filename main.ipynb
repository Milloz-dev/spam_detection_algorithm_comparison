{
 "cells": [
  {
   "cell_type": "markdown",
   "metadata": {},
   "source": [
    "## Assignment 2\n",
    "Petter Eriksson , Oscar Andersson"
   ]
  },
  {
   "cell_type": "markdown",
   "metadata": {},
   "source": [
    "## 1. Load and Preprocess Dataset"
   ]
  },
  {
   "cell_type": "code",
   "execution_count": 1,
   "metadata": {},
   "outputs": [],
   "source": [
    "import pandas as pd\n",
    "import numpy as np\n",
    "from sklearn.preprocessing import StandardScaler\n",
    "from sklearn.linear_model import LogisticRegression\n",
    "from sklearn.ensemble import RandomForestClassifier\n",
    "from sklearn.svm import SVC\n",
    "from sklearn.metrics import accuracy_score, precision_score, recall_score, f1_score\n",
    "from sklearn.model_selection import StratifiedKFold\n",
    "from scipy.stats import friedmanchisquare\n",
    "import time\n",
    "\n",
    "# Load and preprocess dataset\n",
    "data_file = \"spambase.data\"\n",
    "df = pd.read_csv(data_file, header=None)\n",
    "\n",
    "# Features and target split\n",
    "X = df.iloc[:, :-1].values\n",
    "y = df.iloc[:, -1].values\n",
    "\n",
    "# Standardize features\n",
    "scaler = StandardScaler()\n",
    "X = scaler.fit_transform(X)\n",
    "\n",
    "# Classifiers\n",
    "classifiers = { \"Log Reg\": LogisticRegression(max_iter=500),\n",
    "               \"SVM\": SVC(),\n",
    "               \"Random Forest\": RandomForestClassifier()\n",
    "}\n",
    "\n",
    "\n"
   ]
  },
  {
   "cell_type": "markdown",
   "metadata": {},
   "source": [
    "## 2. Stratified ten-fold cross-validation tests"
   ]
  },
  {
   "cell_type": "code",
   "execution_count": 2,
   "metadata": {},
   "outputs": [],
   "source": [
    "# Metrics placeholders\n",
    "results = {\"Algorithm\": [], \"Fold\": [], \"Training Time (s)\": [], \"Accuracy\": [], \"F-measure\": []}\n",
    "\n",
    "# Stratified 10-Fold Cross-Validation\n",
    "skf = StratifiedKFold(n_splits=10, shuffle=True, random_state=42)\n",
    "\n",
    "for algo_name, clf in classifiers.items():\n",
    "    for fold, (train_idx, test_idx) in enumerate(skf.split(X, y), start=1):\n",
    "        # Split data\n",
    "        X_train, X_test = X[train_idx], X[test_idx]\n",
    "        y_train, y_test = y[train_idx], y[test_idx]\n",
    "\n",
    "        # Train and time the classifier\n",
    "        start_time = time.time()\n",
    "        clf.fit(X_train, y_train)\n",
    "        train_time = time.time() - start_time\n",
    "\n",
    "        # Predictions\n",
    "        y_pred = clf.predict(X_test)\n",
    "\n",
    "        # Calculate metrics\n",
    "        acc = accuracy_score(y_test, y_pred)\n",
    "        f1 = f1_score(y_test, y_pred, average='weighted')\n",
    "\n",
    "        # Store results\n",
    "        results[\"Algorithm\"].append(algo_name)\n",
    "        results[\"Fold\"].append(fold)\n",
    "        results[\"Training Time (s)\"].append(train_time)\n",
    "        results[\"Accuracy\"].append(acc)\n",
    "        results[\"F-measure\"].append(f1)\n",
    "\n",
    "# Convert results to DataFrame\n",
    "results_df = pd.DataFrame(results)"
   ]
  },
  {
   "cell_type": "markdown",
   "metadata": {},
   "source": [
    "## 3. Ranking Folds"
   ]
  },
  {
   "cell_type": "code",
   "execution_count": 6,
   "metadata": {},
   "outputs": [],
   "source": [
    "# Add ranking to the results DataFrame\n",
    "ranked_results = []\n",
    "\n",
    "# Group by fold and calculate ranks for accuracy\n",
    "for fold, group in results_df.groupby(\"Fold\"):\n",
    "    group = group.copy()\n",
    "    group[\"Rank\"] = group[\"Accuracy\"].rank(ascending=False, method=\"average\")\n",
    "    ranked_results.append(group)\n",
    "\n",
    "# Combine all folds back into a single DataFrame\n",
    "ranked_results_df = pd.concat(ranked_results, ignore_index=True)\n",
    "\n",
    "# Compute rank sums for each algorithm\n",
    "rank_sums = ranked_results_df.groupby(\"Algorithm\")[\"Rank\"].sum()\n"
   ]
  },
  {
   "cell_type": "code",
   "execution_count": 9,
   "metadata": {},
   "outputs": [
    {
     "name": "stdout",
     "output_type": "stream",
     "text": [
      "Algorithm\n",
      "Log Reg          28.0\n",
      "Random Forest    10.0\n",
      "SVM              22.0\n",
      "Name: Rank, dtype: float64\n"
     ]
    }
   ],
   "source": [
    "print(rank_sums)"
   ]
  },
  {
   "cell_type": "markdown",
   "metadata": {},
   "source": [
    "## 3. Friedman Test"
   ]
  },
  {
   "cell_type": "code",
   "execution_count": 8,
   "metadata": {},
   "outputs": [
    {
     "name": "stdout",
     "output_type": "stream",
     "text": [
      "Ranked Results DataFrame:\n",
      "        Algorithm  Fold  Training Time (s)  Accuracy  F-measure  Rank\n",
      "0         Log Reg     1           0.017000  0.915401   0.915188   3.0\n",
      "1             SVM     1           0.257499  0.919740   0.919450   2.0\n",
      "2   Random Forest     1           0.721498  0.954447   0.954332   1.0\n",
      "3         Log Reg     2           0.013000  0.921739   0.921415   3.0\n",
      "4             SVM     2           0.260003  0.928261   0.928004   2.0\n",
      "5   Random Forest     2           0.715001  0.956522   0.956389   1.0\n",
      "6         Log Reg     3           0.013000  0.928261   0.928004   3.0\n",
      "7             SVM     3           0.264490  0.939130   0.939010   2.0\n",
      "8   Random Forest     3           0.688003  0.963043   0.963026   1.0\n",
      "9         Log Reg     4           0.014000  0.932609   0.932507   2.0\n",
      "10            SVM     4           0.258999  0.921739   0.921496   3.0\n",
      "11  Random Forest     4           0.702000  0.963043   0.962988   1.0\n",
      "12        Log Reg     5           0.014500  0.908696   0.908782   3.0\n",
      "13            SVM     5           0.267002  0.939130   0.939007   2.0\n",
      "14  Random Forest     5           0.730502  0.941304   0.941276   1.0\n",
      "15        Log Reg     6           0.014497  0.936957   0.936926   3.0\n",
      "16            SVM     6           0.264503  0.947826   0.947664   2.0\n",
      "17  Random Forest     6           0.722500  0.965217   0.965147   1.0\n",
      "18        Log Reg     7           0.013500  0.934783   0.934507   2.0\n",
      "19            SVM     7           0.274998  0.926087   0.925774   3.0\n",
      "20  Random Forest     7           0.773499  0.958696   0.958544   1.0\n",
      "21        Log Reg     8           0.014000  0.926087   0.925598   3.0\n",
      "22            SVM     8           0.314002  0.936957   0.936726   2.0\n",
      "23  Random Forest     8           0.691999  0.952174   0.951971   1.0\n",
      "24        Log Reg     9           0.014000  0.939130   0.938489   3.0\n",
      "25            SVM     9           0.269003  0.945652   0.945259   2.0\n",
      "26  Random Forest     9           0.726002  0.950000   0.949817   1.0\n",
      "27        Log Reg    10           0.013500  0.910870   0.910441   3.0\n",
      "28            SVM    10           0.268499  0.934783   0.934430   2.0\n",
      "29  Random Forest    10           0.706001  0.947826   0.947544   1.0\n",
      "\n",
      "Friedman Test Statistic: 16.800\n",
      "Degrees of Freedom: 2\n"
     ]
    }
   ],
   "source": [
    "# Number of folds and classifiers\n",
    "n_folds = len(results_df[\"Fold\"].unique())\n",
    "n_classifiers = len(results_df[\"Algorithm\"].unique())\n",
    "\n",
    "# Compute Friedman Test Statistic\n",
    "chi_square_f = (12 / (n_folds * n_classifiers * (n_classifiers + 1))) * np.sum(rank_sums**2) - 3 * n_folds * (n_classifiers + 1)\n",
    "\n",
    "# Degrees of freedom\n",
    "df = n_classifiers - 1\n",
    "\n",
    "# Output\n",
    "print(f\"Ranked Results DataFrame:\\n{ranked_results_df}\")\n",
    "print(f\"\\nFriedman Test Statistic: {chi_square_f:.3f}\")\n",
    "print(f\"Degrees of Freedom: {df}\")"
   ]
  }
 ],
 "metadata": {
  "kernelspec": {
   "display_name": "Python 3",
   "language": "python",
   "name": "python3"
  },
  "language_info": {
   "codemirror_mode": {
    "name": "ipython",
    "version": 3
   },
   "file_extension": ".py",
   "mimetype": "text/x-python",
   "name": "python",
   "nbconvert_exporter": "python",
   "pygments_lexer": "ipython3",
   "version": "3.12.6"
  }
 },
 "nbformat": 4,
 "nbformat_minor": 2
}
