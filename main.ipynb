{
 "cells": [
  {
   "cell_type": "markdown",
   "metadata": {},
   "source": [
    "## Assignment 2\n",
    "Petter Eriksson , Oscar Andersson"
   ]
  },
  {
   "cell_type": "markdown",
   "metadata": {},
   "source": [
    "## 1. Load and Preprocess Dataset"
   ]
  },
  {
   "cell_type": "code",
   "execution_count": 1,
   "metadata": {},
   "outputs": [],
   "source": [
    "import pandas as pd\n",
    "import numpy as np\n",
    "from sklearn.preprocessing import StandardScaler\n",
    "from sklearn.linear_model import LogisticRegression\n",
    "from sklearn.ensemble import RandomForestClassifier\n",
    "from sklearn.svm import SVC\n",
    "from sklearn.metrics import accuracy_score, precision_score, recall_score, f1_score\n",
    "from sklearn.model_selection import StratifiedKFold\n",
    "from scipy.stats import friedmanchisquare\n",
    "import time\n",
    "\n",
    "# Load and preprocess dataset\n",
    "data_file = \"spambase.data\"\n",
    "df = pd.read_csv(data_file, header=None)\n",
    "\n",
    "# Features and target split\n",
    "X = df.iloc[:, :-1].values\n",
    "y = df.iloc[:, -1].values\n",
    "\n",
    "# Standardize features\n",
    "scaler = StandardScaler()\n",
    "X = scaler.fit_transform(X)\n",
    "\n",
    "# Classifiers\n",
    "classifiers = { \"Log Reg\": LogisticRegression(max_iter=500),\n",
    "               \"SVM\": SVC(),\n",
    "               \"Random Forest\": RandomForestClassifier()\n",
    "}\n",
    "\n",
    "\n"
   ]
  },
  {
   "cell_type": "markdown",
   "metadata": {},
   "source": [
    "## 2. Stratified ten-fold cross-validation tests"
   ]
  },
  {
   "cell_type": "code",
   "execution_count": 2,
   "metadata": {},
   "outputs": [],
   "source": [
    "# Metrics placeholders\n",
    "results = {\"Algorithm\": [], \"Fold\": [], \"Training Time (s)\": [], \"Accuracy\": [], \"F-measure\": []}\n",
    "\n",
    "# Stratified 10-Fold Cross-Validation\n",
    "skf = StratifiedKFold(n_splits=10, shuffle=True, random_state=42)\n",
    "\n",
    "for algo_name, clf in classifiers.items():\n",
    "    for fold, (train_idx, test_idx) in enumerate(skf.split(X, y), start=1):\n",
    "        # Split data\n",
    "        X_train, X_test = X[train_idx], X[test_idx]\n",
    "        y_train, y_test = y[train_idx], y[test_idx]\n",
    "\n",
    "        # Train and time the classifier\n",
    "        start_time = time.time()\n",
    "        clf.fit(X_train, y_train)\n",
    "        train_time = time.time() - start_time\n",
    "\n",
    "        # Predictions\n",
    "        y_pred = clf.predict(X_test)\n",
    "\n",
    "        # Calculate metrics\n",
    "        acc = accuracy_score(y_test, y_pred)\n",
    "        f1 = f1_score(y_test, y_pred, average='weighted')\n",
    "\n",
    "        # Store results\n",
    "        results[\"Algorithm\"].append(algo_name)\n",
    "        results[\"Fold\"].append(fold)\n",
    "        results[\"Training Time (s)\"].append(train_time)\n",
    "        results[\"Accuracy\"].append(acc)\n",
    "        results[\"F-measure\"].append(f1)\n",
    "\n",
    "# Convert results to DataFrame\n",
    "results_df = pd.DataFrame(results)"
   ]
  },
  {
   "cell_type": "code",
   "execution_count": 3,
   "metadata": {},
   "outputs": [
    {
     "name": "stdout",
     "output_type": "stream",
     "text": [
      "        Algorithm  Fold  Training Time (s)  Accuracy  F-measure\n",
      "0         Log Reg     1           0.024499  0.915401   0.915188\n",
      "1         Log Reg     2           0.014995  0.921739   0.921415\n",
      "2         Log Reg     3           0.016999  0.928261   0.928004\n",
      "3         Log Reg     4           0.013000  0.932609   0.932507\n",
      "4         Log Reg     5           0.015001  0.908696   0.908782\n",
      "5         Log Reg     6           0.016007  0.936957   0.936926\n",
      "6         Log Reg     7           0.015000  0.934783   0.934507\n",
      "7         Log Reg     8           0.014501  0.926087   0.925598\n",
      "8         Log Reg     9           0.016000  0.939130   0.938489\n",
      "9         Log Reg    10           0.014997  0.910870   0.910441\n",
      "10            SVM     1           0.269497  0.919740   0.919450\n",
      "11            SVM     2           0.265001  0.928261   0.928004\n",
      "12            SVM     3           0.264499  0.939130   0.939010\n",
      "13            SVM     4           0.261503  0.921739   0.921496\n",
      "14            SVM     5           0.264499  0.939130   0.939007\n",
      "15            SVM     6           0.260000  0.947826   0.947664\n",
      "16            SVM     7           0.267001  0.926087   0.925774\n",
      "17            SVM     8           0.265000  0.936957   0.936726\n",
      "18            SVM     9           0.261502  0.945652   0.945259\n",
      "19            SVM    10           0.263504  0.934783   0.934430\n",
      "20  Random Forest     1           0.668499  0.950108   0.950084\n",
      "21  Random Forest     2           0.672501  0.960870   0.960707\n",
      "22  Random Forest     3           0.682498  0.960870   0.960870\n",
      "23  Random Forest     4           0.678499  0.960870   0.960790\n",
      "24  Random Forest     5           0.684500  0.936957   0.936926\n",
      "25  Random Forest     6           0.664494  0.963043   0.962988\n",
      "26  Random Forest     7           0.694001  0.952174   0.952077\n",
      "27  Random Forest     8           0.682497  0.960870   0.960704\n",
      "28  Random Forest     9           0.681998  0.947826   0.947720\n",
      "29  Random Forest    10           0.696498  0.947826   0.947544\n"
     ]
    }
   ],
   "source": [
    "print(results_df)"
   ]
  },
  {
   "cell_type": "markdown",
   "metadata": {},
   "source": [
    "## 3. Friedman Test"
   ]
  },
  {
   "cell_type": "code",
   "execution_count": null,
   "metadata": {},
   "outputs": [],
   "source": []
  }
 ],
 "metadata": {
  "kernelspec": {
   "display_name": "Python 3",
   "language": "python",
   "name": "python3"
  },
  "language_info": {
   "codemirror_mode": {
    "name": "ipython",
    "version": 3
   },
   "file_extension": ".py",
   "mimetype": "text/x-python",
   "name": "python",
   "nbconvert_exporter": "python",
   "pygments_lexer": "ipython3",
   "version": "3.12.6"
  }
 },
 "nbformat": 4,
 "nbformat_minor": 2
}
